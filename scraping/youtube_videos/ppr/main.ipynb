{
 "cells": [
  {
   "cell_type": "code",
   "execution_count": 1,
   "metadata": {},
   "outputs": [
    {
     "name": "stdout",
     "output_type": "stream",
     "text": [
      "Requirement already satisfied: selenium in c:\\users\\diego\\desktop\\data_pilot\\.venv\\lib\\site-packages (4.14.0)\n",
      "Requirement already satisfied: urllib3<3,>=1.26 in c:\\users\\diego\\desktop\\data_pilot\\.venv\\lib\\site-packages (from urllib3[socks]<3,>=1.26->selenium) (2.0.7)\n",
      "Requirement already satisfied: trio~=0.17 in c:\\users\\diego\\desktop\\data_pilot\\.venv\\lib\\site-packages (from selenium) (0.22.2)\n",
      "Requirement already satisfied: trio-websocket~=0.9 in c:\\users\\diego\\desktop\\data_pilot\\.venv\\lib\\site-packages (from selenium) (0.11.1)\n",
      "Requirement already satisfied: certifi>=2021.10.8 in c:\\users\\diego\\desktop\\data_pilot\\.venv\\lib\\site-packages (from selenium) (2023.7.22)\n",
      "Requirement already satisfied: attrs>=20.1.0 in c:\\users\\diego\\desktop\\data_pilot\\.venv\\lib\\site-packages (from trio~=0.17->selenium) (23.1.0)\n",
      "Requirement already satisfied: sortedcontainers in c:\\users\\diego\\desktop\\data_pilot\\.venv\\lib\\site-packages (from trio~=0.17->selenium) (2.4.0)\n",
      "Requirement already satisfied: idna in c:\\users\\diego\\desktop\\data_pilot\\.venv\\lib\\site-packages (from trio~=0.17->selenium) (3.4)\n",
      "Requirement already satisfied: outcome in c:\\users\\diego\\desktop\\data_pilot\\.venv\\lib\\site-packages (from trio~=0.17->selenium) (1.3.0.post0)\n",
      "Requirement already satisfied: sniffio in c:\\users\\diego\\desktop\\data_pilot\\.venv\\lib\\site-packages (from trio~=0.17->selenium) (1.3.0)\n",
      "Requirement already satisfied: cffi>=1.14 in c:\\users\\diego\\desktop\\data_pilot\\.venv\\lib\\site-packages (from trio~=0.17->selenium) (1.16.0)\n",
      "Requirement already satisfied: wsproto>=0.14 in c:\\users\\diego\\desktop\\data_pilot\\.venv\\lib\\site-packages (from trio-websocket~=0.9->selenium) (1.2.0)\n",
      "Requirement already satisfied: pysocks!=1.5.7,<2.0,>=1.5.6 in c:\\users\\diego\\desktop\\data_pilot\\.venv\\lib\\site-packages (from urllib3[socks]<3,>=1.26->selenium) (1.7.1)\n",
      "Requirement already satisfied: pycparser in c:\\users\\diego\\desktop\\data_pilot\\.venv\\lib\\site-packages (from cffi>=1.14->trio~=0.17->selenium) (2.21)\n",
      "Requirement already satisfied: h11<1,>=0.9.0 in c:\\users\\diego\\desktop\\data_pilot\\.venv\\lib\\site-packages (from wsproto>=0.14->trio-websocket~=0.9->selenium) (0.14.0)\n",
      "Note: you may need to restart the kernel to use updated packages.\n"
     ]
    }
   ],
   "source": [
    "%pip install selenium"
   ]
  },
  {
   "cell_type": "code",
   "execution_count": 2,
   "metadata": {},
   "outputs": [],
   "source": [
    "from selenium import webdriver\n",
    "from selenium.webdriver.common.by import By\n",
    "from bs4 import BeautifulSoup\n",
    "import pandas as pd\n",
    "from datetime import date, datetime"
   ]
  },
  {
   "cell_type": "code",
   "execution_count": 5,
   "metadata": {},
   "outputs": [],
   "source": [
    "options = webdriver.ChromeOptions()\n",
    "options.add_argument('--headless')\n",
    "options.add_argument('--no-sandbox')\n",
    "\n",
    "wd = webdriver.Chrome(options)"
   ]
  },
  {
   "cell_type": "code",
   "execution_count": 6,
   "metadata": {},
   "outputs": [],
   "source": [
    "# https://www.youtube.com/watch?v=JV7tpzfKNhk"
   ]
  },
  {
   "cell_type": "code",
   "execution_count": 7,
   "metadata": {},
   "outputs": [],
   "source": [
    "wd.get('https://www.youtube.com/@padrepauloricardo/videos')"
   ]
  },
  {
   "cell_type": "code",
   "execution_count": 9,
   "metadata": {},
   "outputs": [],
   "source": [
    "html = wd.page_source"
   ]
  },
  {
   "cell_type": "code",
   "execution_count": 10,
   "metadata": {},
   "outputs": [],
   "source": [
    "soup = BeautifulSoup(html, 'html.parser')"
   ]
  },
  {
   "cell_type": "code",
   "execution_count": 11,
   "metadata": {},
   "outputs": [],
   "source": [
    "a_tags = soup.find_all('a', {'id': 'video-title-link'})"
   ]
  },
  {
   "cell_type": "code",
   "execution_count": 12,
   "metadata": {},
   "outputs": [
    {
     "name": "stdout",
     "output_type": "stream",
     "text": [
      "[<a aria-label=\"Homilia Diária | A necessidade de rezar pelos falecidos (Comemoração de Todos os Fiéis Defuntos) Padre Paulo Ricardo 52.432 visualizações há 19 horas 5 minutos e 24 segundos\" class=\"yt-simple-endpoint focus-on-expand style-scope ytd-rich-grid-media\" href=\"/watch?v=Ev_BJUo4RY0\" id=\"video-title-link\" title=\"Homilia Diária | A necessidade de rezar pelos falecidos (Comemoração de Todos os Fiéis Defuntos)\"><yt-formatted-string aria-label=\"Homilia Diária | A necessidade de rezar pelos falecidos (Comemoração de Todos os Fiéis Defuntos) Padre Paulo Ricardo 52.432 visualizações há 19 horas 5 minutos e 24 segundos\" class=\"style-scope ytd-rich-grid-media\" id=\"video-title\">Homilia Diária | A necessidade de rezar pelos falecidos (Comemoração de Todos os Fiéis Defuntos)</yt-formatted-string></a>, <a aria-label=\"Reze o terço hoje com o Padre Paulo Ricardo (1º de novembro) Padre Paulo Ricardo 29.156 visualizações há 22 horas 25 minutos\" class=\"yt-simple-endpoint focus-on-expand style-scope ytd-rich-grid-media\" href=\"/watch?v=UTdpMzztKd0\" id=\"video-title-link\" title=\"Reze o terço hoje com o Padre Paulo Ricardo (1º de novembro)\"><yt-formatted-string aria-label=\"Reze o terço hoje com o Padre Paulo Ricardo (1º de novembro) Padre Paulo Ricardo 29.156 visualizações há 22 horas 25 minutos\" class=\"style-scope ytd-rich-grid-media\" id=\"video-title\">Reze o terço hoje com o Padre Paulo Ricardo (1º de novembro)</yt-formatted-string></a>, <a aria-label=\"Por que os cristãos são um problema para os ditadores de plantão? Padre Paulo Ricardo 14.076 visualizações há 1 dia 5 minutos e 53 segundos\" class=\"yt-simple-endpoint focus-on-expand style-scope ytd-rich-grid-media\" href=\"/watch?v=LNzf_jXrtr0\" id=\"video-title-link\" title=\"Por que os cristãos são um problema para os ditadores de plantão?\"><yt-formatted-string aria-label=\"Por que os cristãos são um problema para os ditadores de plantão? Padre Paulo Ricardo 14.076 visualizações há 1 dia 5 minutos e 53 segundos\" class=\"style-scope ytd-rich-grid-media\" id=\"video-title\">Por que os cristãos são um problema para os ditadores de plantão?</yt-formatted-string></a>, <a aria-label=\"Homilia Diária | Observam os detalhes, mas esquecem o amor (Sexta-feira da 30.ª Sem. do Tempo Comum) Padre Paulo Ricardo 0 visualizações 6 minutos e 12 segundos\" class=\"yt-simple-endpoint focus-on-expand style-scope ytd-rich-grid-media\" href=\"/watch?v=DzB5w8E9JKc\" id=\"video-title-link\" title=\"Homilia Diária | Observam os detalhes, mas esquecem o amor (Sexta-feira da 30.ª Sem. do Tempo Comum)\"><yt-formatted-string aria-label=\"Homilia Diária | Observam os detalhes, mas esquecem o amor (Sexta-feira da 30.ª Sem. do Tempo Comum) Padre Paulo Ricardo 0 visualizações 6 minutos e 12 segundos\" class=\"style-scope ytd-rich-grid-media\" id=\"video-title\">Homilia Diária | Observam os detalhes, mas esquecem o amor (Sexta-feira da 30.ª Sem. do Tempo Comum)</yt-formatted-string></a>, <a aria-label=\"Reze o terço hoje com o Padre Paulo Ricardo! (3 de novembro) Padre Paulo Ricardo 0 visualizações 25 minutos\" class=\"yt-simple-endpoint focus-on-expand style-scope ytd-rich-grid-media\" href=\"/watch?v=DHKnIT52S8I\" id=\"video-title-link\" title=\"Reze o terço hoje com o Padre Paulo Ricardo! (3 de novembro)\"><yt-formatted-string aria-label=\"Reze o terço hoje com o Padre Paulo Ricardo! (3 de novembro) Padre Paulo Ricardo 0 visualizações 25 minutos\" class=\"style-scope ytd-rich-grid-media\" id=\"video-title\">Reze o terço hoje com o Padre Paulo Ricardo! (3 de novembro)</yt-formatted-string></a>, <a aria-label=\"Reze o terço hoje com o Padre Paulo Ricardo! (2 de novembro) Padre Paulo Ricardo 0 visualizações 25 minutos\" class=\"yt-simple-endpoint focus-on-expand style-scope ytd-rich-grid-media\" href=\"/watch?v=zzqfoJMF-r8\" id=\"video-title-link\" title=\"Reze o terço hoje com o Padre Paulo Ricardo! (2 de novembro)\"><yt-formatted-string aria-label=\"Reze o terço hoje com o Padre Paulo Ricardo! (2 de novembro) Padre Paulo Ricardo 0 visualizações 25 minutos\" class=\"style-scope ytd-rich-grid-media\" id=\"video-title\">Reze o terço hoje com o Padre Paulo Ricardo! (2 de novembro)</yt-formatted-string></a>, <a aria-label=\"Homilia Diária | “Fazei todo esforço possível!” (Quarta-feira da 30.ª Semana do Tempo Comum) Padre Paulo Ricardo 56.425 visualizações há 1 dia 5 minutos e 34 segundos\" class=\"yt-simple-endpoint focus-on-expand style-scope ytd-rich-grid-media\" href=\"/watch?v=LhymZWG8moY\" id=\"video-title-link\" title=\"Homilia Diária | “Fazei todo esforço possível!” (Quarta-feira da 30.ª Semana do Tempo Comum)\"><yt-formatted-string aria-label=\"Homilia Diária | “Fazei todo esforço possível!” (Quarta-feira da 30.ª Semana do Tempo Comum) Padre Paulo Ricardo 56.425 visualizações há 1 dia 5 minutos e 34 segundos\" class=\"style-scope ytd-rich-grid-media\" id=\"video-title\">Homilia Diária | “Fazei todo esforço possível!” (Quarta-feira da 30.ª Semana do Tempo Comum)</yt-formatted-string></a>, <a aria-label=\"Reze o terço hoje com o Padre Paulo Ricardo! (31 de outubro) Padre Paulo Ricardo 31.958 visualizações há 1 dia 25 minutos\" class=\"yt-simple-endpoint focus-on-expand style-scope ytd-rich-grid-media\" href=\"/watch?v=L6KhUwGKyIU\" id=\"video-title-link\" title=\"Reze o terço hoje com o Padre Paulo Ricardo! (31 de outubro)\"><yt-formatted-string aria-label=\"Reze o terço hoje com o Padre Paulo Ricardo! (31 de outubro) Padre Paulo Ricardo 31.958 visualizações há 1 dia 25 minutos\" class=\"style-scope ytd-rich-grid-media\" id=\"video-title\">Reze o terço hoje com o Padre Paulo Ricardo! (31 de outubro)</yt-formatted-string></a>, <a aria-label=\"Homilia Diária | Como funciona a dinâmica da fé? (Terça-feira da 30.ª Semana do Tempo Comum) Padre Paulo Ricardo 56.952 visualizações há 2 dias 5 minutos e 43 segundos\" class=\"yt-simple-endpoint focus-on-expand style-scope ytd-rich-grid-media\" href=\"/watch?v=VHiiGdXrYpM\" id=\"video-title-link\" title=\"Homilia Diária | Como funciona a dinâmica da fé? (Terça-feira da 30.ª Semana do Tempo Comum)\"><yt-formatted-string aria-label=\"Homilia Diária | Como funciona a dinâmica da fé? (Terça-feira da 30.ª Semana do Tempo Comum) Padre Paulo Ricardo 56.952 visualizações há 2 dias 5 minutos e 43 segundos\" class=\"style-scope ytd-rich-grid-media\" id=\"video-title\">Homilia Diária | Como funciona a dinâmica da fé? (Terça-feira da 30.ª Semana do Tempo Comum)</yt-formatted-string></a>, <a aria-label=\"Reze o terço hoje com o Padre Paulo Ricardo! (30 de outubro) Padre Paulo Ricardo 33.903 visualizações há 2 dias 25 minutos\" class=\"yt-simple-endpoint focus-on-expand style-scope ytd-rich-grid-media\" href=\"/watch?v=a3cI8Q9KhU0\" id=\"video-title-link\" title=\"Reze o terço hoje com o Padre Paulo Ricardo! (30 de outubro)\"><yt-formatted-string aria-label=\"Reze o terço hoje com o Padre Paulo Ricardo! (30 de outubro) Padre Paulo Ricardo 33.903 visualizações há 2 dias 25 minutos\" class=\"style-scope ytd-rich-grid-media\" id=\"video-title\">Reze o terço hoje com o Padre Paulo Ricardo! (30 de outubro)</yt-formatted-string></a>, <a aria-label=\"Homilia Diária | Não estamos com a alma encurvada? (Segunda-feira da 30.ª Semana do Tempo Comum) Padre Paulo Ricardo 53.223 visualizações há 3 dias 5 minutos\" class=\"yt-simple-endpoint focus-on-expand style-scope ytd-rich-grid-media\" href=\"/watch?v=keWDiiPbG_8\" id=\"video-title-link\" title=\"Homilia Diária | Não estamos com a alma encurvada? (Segunda-feira da 30.ª Semana do Tempo Comum)\"><yt-formatted-string aria-label=\"Homilia Diária | Não estamos com a alma encurvada? (Segunda-feira da 30.ª Semana do Tempo Comum) Padre Paulo Ricardo 53.223 visualizações há 3 dias 5 minutos\" class=\"style-scope ytd-rich-grid-media\" id=\"video-title\">Homilia Diária | Não estamos com a alma encurvada? (Segunda-feira da 30.ª Semana do Tempo Comum)</yt-formatted-string></a>, <a aria-label=\"Reze o terço hoje com o Padre Paulo Ricardo (29 de outubro) Padre Paulo Ricardo 28.439 visualizações há 3 dias 25 minutos\" class=\"yt-simple-endpoint focus-on-expand style-scope ytd-rich-grid-media\" href=\"/watch?v=oOgD5LpKCJ4\" id=\"video-title-link\" title=\"Reze o terço hoje com o Padre Paulo Ricardo (29 de outubro)\"><yt-formatted-string aria-label=\"Reze o terço hoje com o Padre Paulo Ricardo (29 de outubro) Padre Paulo Ricardo 28.439 visualizações há 3 dias 25 minutos\" class=\"style-scope ytd-rich-grid-media\" id=\"video-title\">Reze o terço hoje com o Padre Paulo Ricardo (29 de outubro)</yt-formatted-string></a>, <a aria-label=\"Reze o terço hoje com o Padre Paulo Ricardo! (23 de outubro) Padre Paulo Ricardo 25.137 visualizações há 4 dias 25 minutos\" class=\"yt-simple-endpoint focus-on-expand style-scope ytd-rich-grid-media\" href=\"/watch?v=SPAq-9OFJbk\" id=\"video-title-link\" title=\"Reze o terço hoje com o Padre Paulo Ricardo! (23 de outubro)\"><yt-formatted-string aria-label=\"Reze o terço hoje com o Padre Paulo Ricardo! (23 de outubro) Padre Paulo Ricardo 25.137 visualizações há 4 dias 25 minutos\" class=\"style-scope ytd-rich-grid-media\" id=\"video-title\">Reze o terço hoje com o Padre Paulo Ricardo! (23 de outubro)</yt-formatted-string></a>, <a aria-label=\"Homilia Dominical | Como adquirir e fazer crescer o amor a Deus? (30.º Domingo do Tempo Comum) Padre Paulo Ricardo 85.125 visualizações há 4 dias 26 minutos\" class=\"yt-simple-endpoint focus-on-expand style-scope ytd-rich-grid-media\" href=\"/watch?v=DTB1i0yOlUc\" id=\"video-title-link\" title=\"Homilia Dominical | Como adquirir e fazer crescer o amor a Deus? (30.º Domingo do Tempo Comum)\"><yt-formatted-string aria-label=\"Homilia Dominical | Como adquirir e fazer crescer o amor a Deus? (30.º Domingo do Tempo Comum) Padre Paulo Ricardo 85.125 visualizações há 4 dias 26 minutos\" class=\"style-scope ytd-rich-grid-media\" id=\"video-title\">Homilia Dominical | Como adquirir e fazer crescer o amor a Deus? (30.º Domingo do Tempo Comum)</yt-formatted-string></a>, <a aria-label=\"O acontecimento histórico que nos tornou cidadãos de 2ª categoria Padre Paulo Ricardo 12.463 visualizações há 5 dias 2 minutos e 12 segundos\" class=\"yt-simple-endpoint focus-on-expand style-scope ytd-rich-grid-media\" href=\"/watch?v=Ga5QSqHJ_5s\" id=\"video-title-link\" title=\"O acontecimento histórico que nos tornou cidadãos de 2ª categoria\"><yt-formatted-string aria-label=\"O acontecimento histórico que nos tornou cidadãos de 2ª categoria Padre Paulo Ricardo 12.463 visualizações há 5 dias 2 minutos e 12 segundos\" class=\"style-scope ytd-rich-grid-media\" id=\"video-title\">O acontecimento histórico que nos tornou cidadãos de 2ª categoria</yt-formatted-string></a>, <a aria-label=\"Homilia Diária | A missão de um apóstolo (Festa de São Simão e São Judas Tadeu, Apóstolos) Padre Paulo Ricardo 42.865 visualizações há 5 dias 5 minutos e 3 segundos\" class=\"yt-simple-endpoint focus-on-expand style-scope ytd-rich-grid-media\" href=\"/watch?v=Aa83YTtdff4\" id=\"video-title-link\" title=\"Homilia Diária | A missão de um apóstolo (Festa de São Simão e São Judas Tadeu, Apóstolos)\"><yt-formatted-string aria-label=\"Homilia Diária | A missão de um apóstolo (Festa de São Simão e São Judas Tadeu, Apóstolos) Padre Paulo Ricardo 42.865 visualizações há 5 dias 5 minutos e 3 segundos\" class=\"style-scope ytd-rich-grid-media\" id=\"video-title\">Homilia Diária | A missão de um apóstolo (Festa de São Simão e São Judas Tadeu, Apóstolos)</yt-formatted-string></a>, <a aria-label=\"Reze o terço hoje com o Padre Paulo Ricardo! (27 de outubro) Padre Paulo Ricardo 32.278 visualizações há 5 dias 25 minutos\" class=\"yt-simple-endpoint focus-on-expand style-scope ytd-rich-grid-media\" href=\"/watch?v=VZ0-fAaM6Kg\" id=\"video-title-link\" title=\"Reze o terço hoje com o Padre Paulo Ricardo! (27 de outubro)\"><yt-formatted-string aria-label=\"Reze o terço hoje com o Padre Paulo Ricardo! (27 de outubro) Padre Paulo Ricardo 32.278 visualizações há 5 dias 25 minutos\" class=\"style-scope ytd-rich-grid-media\" id=\"video-title\">Reze o terço hoje com o Padre Paulo Ricardo! (27 de outubro)</yt-formatted-string></a>, <a aria-label=\"Precisamos nos submeter à fé de dois mil anos! Padre Paulo Ricardo 12.673 visualizações há 6 dias 3 minutos e 8 segundos\" class=\"yt-simple-endpoint focus-on-expand style-scope ytd-rich-grid-media\" href=\"/watch?v=mavdpM3hygs\" id=\"video-title-link\" title=\"Precisamos nos submeter à fé de dois mil anos!\"><yt-formatted-string aria-label=\"Precisamos nos submeter à fé de dois mil anos! Padre Paulo Ricardo 12.673 visualizações há 6 dias 3 minutos e 8 segundos\" class=\"style-scope ytd-rich-grid-media\" id=\"video-title\">Precisamos nos submeter à fé de dois mil anos!</yt-formatted-string></a>, <a aria-label=\"Homilia Diária | Não se faça de desentendido… (Sexta-feira da 29.ª Semana do Tempo Comum) Padre Paulo Ricardo 54.458 visualizações há 6 dias 5 minutos e 27 segundos\" class=\"yt-simple-endpoint focus-on-expand style-scope ytd-rich-grid-media\" href=\"/watch?v=8J3ktIa2cio\" id=\"video-title-link\" title=\"Homilia Diária | Não se faça de desentendido… (Sexta-feira da 29.ª Semana do Tempo Comum)\"><yt-formatted-string aria-label=\"Homilia Diária | Não se faça de desentendido… (Sexta-feira da 29.ª Semana do Tempo Comum) Padre Paulo Ricardo 54.458 visualizações há 6 dias 5 minutos e 27 segundos\" class=\"style-scope ytd-rich-grid-media\" id=\"video-title\">Homilia Diária | Não se faça de desentendido… (Sexta-feira da 29.ª Semana do Tempo Comum)</yt-formatted-string></a>, <a aria-label=\"Reze o terço hoje com o Padre Paulo Ricardo! (26 de outubro) Padre Paulo Ricardo 34.327 visualizações há 6 dias 25 minutos\" class=\"yt-simple-endpoint focus-on-expand style-scope ytd-rich-grid-media\" href=\"/watch?v=M3s75fz3fNg\" id=\"video-title-link\" title=\"Reze o terço hoje com o Padre Paulo Ricardo! (26 de outubro)\"><yt-formatted-string aria-label=\"Reze o terço hoje com o Padre Paulo Ricardo! (26 de outubro) Padre Paulo Ricardo 34.327 visualizações há 6 dias 25 minutos\" class=\"style-scope ytd-rich-grid-media\" id=\"video-title\">Reze o terço hoje com o Padre Paulo Ricardo! (26 de outubro)</yt-formatted-string></a>, <a aria-label=\"Homilia Diária | O fogo que Cristo quer atear sobre nós (Quinta-feira da 29.ª Semana do Tempo Comum) Padre Paulo Ricardo 57.086 visualizações há 7 dias 5 minutos e 25 segundos\" class=\"yt-simple-endpoint focus-on-expand style-scope ytd-rich-grid-media\" href=\"/watch?v=SPUjlVVQQ_E\" id=\"video-title-link\" title=\"Homilia Diária | O fogo que Cristo quer atear sobre nós (Quinta-feira da 29.ª Semana do Tempo Comum)\"><yt-formatted-string aria-label=\"Homilia Diária | O fogo que Cristo quer atear sobre nós (Quinta-feira da 29.ª Semana do Tempo Comum) Padre Paulo Ricardo 57.086 visualizações há 7 dias 5 minutos e 25 segundos\" class=\"style-scope ytd-rich-grid-media\" id=\"video-title\">Homilia Diária | O fogo que Cristo quer atear sobre nós (Quinta-feira da 29.ª Semana do Tempo Comum)</yt-formatted-string></a>, <a aria-label=\"Reze o terço hoje com o Padre Paulo Ricardo (25 de outubro) Padre Paulo Ricardo 36.964 visualizações há 7 dias 25 minutos\" class=\"yt-simple-endpoint focus-on-expand style-scope ytd-rich-grid-media\" href=\"/watch?v=HBCj36YofcE\" id=\"video-title-link\" title=\"Reze o terço hoje com o Padre Paulo Ricardo (25 de outubro)\"><yt-formatted-string aria-label=\"Reze o terço hoje com o Padre Paulo Ricardo (25 de outubro) Padre Paulo Ricardo 36.964 visualizações há 7 dias 25 minutos\" class=\"style-scope ytd-rich-grid-media\" id=\"video-title\">Reze o terço hoje com o Padre Paulo Ricardo (25 de outubro)</yt-formatted-string></a>, <a aria-label=\"Plebiscito sobre o 4b0rt0? Estamos ficando loucos? Padre Paulo Ricardo 21.909 visualizações há 8 dias 3 minutos e 38 segundos\" class=\"yt-simple-endpoint focus-on-expand style-scope ytd-rich-grid-media\" href=\"/watch?v=OFmQ_PfQKqk\" id=\"video-title-link\" title=\"Plebiscito sobre o 4b0rt0? Estamos ficando loucos?\"><yt-formatted-string aria-label=\"Plebiscito sobre o 4b0rt0? Estamos ficando loucos? Padre Paulo Ricardo 21.909 visualizações há 8 dias 3 minutos e 38 segundos\" class=\"style-scope ytd-rich-grid-media\" id=\"video-title\">Plebiscito sobre o 4b0rt0? Estamos ficando loucos?</yt-formatted-string></a>, <a aria-label=\"Homilia Diária | Um intercessor na luta contra as ideologias (Mem. S. Antônio de Sant’Anna Galvão) Padre Paulo Ricardo 56.427 visualizações há 8 dias 5 minutos e 17 segundos\" class=\"yt-simple-endpoint focus-on-expand style-scope ytd-rich-grid-media\" href=\"/watch?v=7l3hxZebZTQ\" id=\"video-title-link\" title=\"Homilia Diária | Um intercessor na luta contra as ideologias (Mem. S. Antônio de Sant’Anna Galvão)\"><yt-formatted-string aria-label=\"Homilia Diária | Um intercessor na luta contra as ideologias (Mem. S. Antônio de Sant’Anna Galvão) Padre Paulo Ricardo 56.427 visualizações há 8 dias 5 minutos e 17 segundos\" class=\"style-scope ytd-rich-grid-media\" id=\"video-title\">Homilia Diária | Um intercessor na luta contra as ideologias (Mem. S. Antônio de Sant’Anna Galvão)</yt-formatted-string></a>, <a aria-label=\"Reze o terço hoje com o Padre Paulo Ricardo! (24 de outubro) Padre Paulo Ricardo 34.756 visualizações há 8 dias 25 minutos\" class=\"yt-simple-endpoint focus-on-expand style-scope ytd-rich-grid-media\" href=\"/watch?v=LjayA3fl6ug\" id=\"video-title-link\" title=\"Reze o terço hoje com o Padre Paulo Ricardo! (24 de outubro)\"><yt-formatted-string aria-label=\"Reze o terço hoje com o Padre Paulo Ricardo! (24 de outubro) Padre Paulo Ricardo 34.756 visualizações há 8 dias 25 minutos\" class=\"style-scope ytd-rich-grid-media\" id=\"video-title\">Reze o terço hoje com o Padre Paulo Ricardo! (24 de outubro)</yt-formatted-string></a>, <a aria-label=\"Pregação Seleta | São Rafael Arcanjo: guia e ordenador de nossas vidas Padre Paulo Ricardo 81.449 visualizações há 9 dias 17 minutos\" class=\"yt-simple-endpoint focus-on-expand style-scope ytd-rich-grid-media\" href=\"/watch?v=LuYxTyhHyqI\" id=\"video-title-link\" title=\"Pregação Seleta | São Rafael Arcanjo: guia e ordenador de nossas vidas\"><yt-formatted-string aria-label=\"Pregação Seleta | São Rafael Arcanjo: guia e ordenador de nossas vidas Padre Paulo Ricardo 81.449 visualizações há 9 dias 17 minutos\" class=\"style-scope ytd-rich-grid-media\" id=\"video-title\">Pregação Seleta | São Rafael Arcanjo: guia e ordenador de nossas vidas</yt-formatted-string></a>, <a aria-label=\"Homilia Diária | Jesus quer servos dispostos (Terça-feira da 29.ª Semana do Tempo Comum) Padre Paulo Ricardo 53.096 visualizações há 9 dias 5 minutos e 59 segundos\" class=\"yt-simple-endpoint focus-on-expand style-scope ytd-rich-grid-media\" href=\"/watch?v=dSO5MLwkLss\" id=\"video-title-link\" title=\"Homilia Diária | Jesus quer servos dispostos (Terça-feira da 29.ª Semana do Tempo Comum)\"><yt-formatted-string aria-label=\"Homilia Diária | Jesus quer servos dispostos (Terça-feira da 29.ª Semana do Tempo Comum) Padre Paulo Ricardo 53.096 visualizações há 9 dias 5 minutos e 59 segundos\" class=\"style-scope ytd-rich-grid-media\" id=\"video-title\">Homilia Diária | Jesus quer servos dispostos (Terça-feira da 29.ª Semana do Tempo Comum)</yt-formatted-string></a>, <a aria-label=\"Reze o terço hoje com o Padre Paulo Ricardo! (23 de outubro) Padre Paulo Ricardo 37.046 visualizações há 9 dias 25 minutos\" class=\"yt-simple-endpoint focus-on-expand style-scope ytd-rich-grid-media\" href=\"/watch?v=JPWLsI6_kgs\" id=\"video-title-link\" title=\"Reze o terço hoje com o Padre Paulo Ricardo! (23 de outubro)\"><yt-formatted-string aria-label=\"Reze o terço hoje com o Padre Paulo Ricardo! (23 de outubro) Padre Paulo Ricardo 37.046 visualizações há 9 dias 25 minutos\" class=\"style-scope ytd-rich-grid-media\" id=\"video-title\">Reze o terço hoje com o Padre Paulo Ricardo! (23 de outubro)</yt-formatted-string></a>, <a aria-label=\"Pregação Seleta | Você vai morrer! Pense nisso e deixe de ser ganancioso! Padre Paulo Ricardo 52.115 visualizações há 10 dias 10 minutos e 14 segundos\" class=\"yt-simple-endpoint focus-on-expand style-scope ytd-rich-grid-media\" href=\"/watch?v=0xHCkjzBlFI\" id=\"video-title-link\" title=\"Pregação Seleta | Você vai morrer! Pense nisso e deixe de ser ganancioso!\"><yt-formatted-string aria-label=\"Pregação Seleta | Você vai morrer! Pense nisso e deixe de ser ganancioso! Padre Paulo Ricardo 52.115 visualizações há 10 dias 10 minutos e 14 segundos\" class=\"style-scope ytd-rich-grid-media\" id=\"video-title\">Pregação Seleta | Você vai morrer! Pense nisso e deixe de ser ganancioso!</yt-formatted-string></a>, <a aria-label=\"Homilia Diária | O remédio para a ganância (Segunda-feira da 29.ª Semana do Tempo Comum) Padre Paulo Ricardo 51.685 visualizações há 10 dias 5 minutos e 30 segundos\" class=\"yt-simple-endpoint focus-on-expand style-scope ytd-rich-grid-media\" href=\"/watch?v=EWLBQOaVkE4\" id=\"video-title-link\" title=\"Homilia Diária | O remédio para a ganância (Segunda-feira da 29.ª Semana do Tempo Comum)\"><yt-formatted-string aria-label=\"Homilia Diária | O remédio para a ganância (Segunda-feira da 29.ª Semana do Tempo Comum) Padre Paulo Ricardo 51.685 visualizações há 10 dias 5 minutos e 30 segundos\" class=\"style-scope ytd-rich-grid-media\" id=\"video-title\">Homilia Diária | O remédio para a ganância (Segunda-feira da 29.ª Semana do Tempo Comum)</yt-formatted-string></a>]\n"
     ]
    }
   ],
   "source": [
    "print(a_tags)"
   ]
  },
  {
   "cell_type": "code",
   "execution_count": 13,
   "metadata": {},
   "outputs": [
    {
     "name": "stdout",
     "output_type": "stream",
     "text": [
      "<a aria-label=\"Homilia Diária | A necessidade de rezar pelos falecidos (Comemoração de Todos os Fiéis Defuntos) Padre Paulo Ricardo 52.432 visualizações há 19 horas 5 minutos e 24 segundos\" class=\"yt-simple-endpoint focus-on-expand style-scope ytd-rich-grid-media\" href=\"/watch?v=Ev_BJUo4RY0\" id=\"video-title-link\" title=\"Homilia Diária | A necessidade de rezar pelos falecidos (Comemoração de Todos os Fiéis Defuntos)\"><yt-formatted-string aria-label=\"Homilia Diária | A necessidade de rezar pelos falecidos (Comemoração de Todos os Fiéis Defuntos) Padre Paulo Ricardo 52.432 visualizações há 19 horas 5 minutos e 24 segundos\" class=\"style-scope ytd-rich-grid-media\" id=\"video-title\">Homilia Diária | A necessidade de rezar pelos falecidos (Comemoração de Todos os Fiéis Defuntos)</yt-formatted-string></a>\n",
      "<a aria-label=\"Reze o terço hoje com o Padre Paulo Ricardo (1º de novembro) Padre Paulo Ricardo 29.156 visualizações há 22 horas 25 minutos\" class=\"yt-simple-endpoint focus-on-expand style-scope ytd-rich-grid-media\" href=\"/watch?v=UTdpMzztKd0\" id=\"video-title-link\" title=\"Reze o terço hoje com o Padre Paulo Ricardo (1º de novembro)\"><yt-formatted-string aria-label=\"Reze o terço hoje com o Padre Paulo Ricardo (1º de novembro) Padre Paulo Ricardo 29.156 visualizações há 22 horas 25 minutos\" class=\"style-scope ytd-rich-grid-media\" id=\"video-title\">Reze o terço hoje com o Padre Paulo Ricardo (1º de novembro)</yt-formatted-string></a>\n",
      "<a aria-label=\"Por que os cristãos são um problema para os ditadores de plantão? Padre Paulo Ricardo 14.076 visualizações há 1 dia 5 minutos e 53 segundos\" class=\"yt-simple-endpoint focus-on-expand style-scope ytd-rich-grid-media\" href=\"/watch?v=LNzf_jXrtr0\" id=\"video-title-link\" title=\"Por que os cristãos são um problema para os ditadores de plantão?\"><yt-formatted-string aria-label=\"Por que os cristãos são um problema para os ditadores de plantão? Padre Paulo Ricardo 14.076 visualizações há 1 dia 5 minutos e 53 segundos\" class=\"style-scope ytd-rich-grid-media\" id=\"video-title\">Por que os cristãos são um problema para os ditadores de plantão?</yt-formatted-string></a>\n",
      "<a aria-label=\"Homilia Diária | Observam os detalhes, mas esquecem o amor (Sexta-feira da 30.ª Sem. do Tempo Comum) Padre Paulo Ricardo 0 visualizações 6 minutos e 12 segundos\" class=\"yt-simple-endpoint focus-on-expand style-scope ytd-rich-grid-media\" href=\"/watch?v=DzB5w8E9JKc\" id=\"video-title-link\" title=\"Homilia Diária | Observam os detalhes, mas esquecem o amor (Sexta-feira da 30.ª Sem. do Tempo Comum)\"><yt-formatted-string aria-label=\"Homilia Diária | Observam os detalhes, mas esquecem o amor (Sexta-feira da 30.ª Sem. do Tempo Comum) Padre Paulo Ricardo 0 visualizações 6 minutos e 12 segundos\" class=\"style-scope ytd-rich-grid-media\" id=\"video-title\">Homilia Diária | Observam os detalhes, mas esquecem o amor (Sexta-feira da 30.ª Sem. do Tempo Comum)</yt-formatted-string></a>\n",
      "<a aria-label=\"Reze o terço hoje com o Padre Paulo Ricardo! (3 de novembro) Padre Paulo Ricardo 0 visualizações 25 minutos\" class=\"yt-simple-endpoint focus-on-expand style-scope ytd-rich-grid-media\" href=\"/watch?v=DHKnIT52S8I\" id=\"video-title-link\" title=\"Reze o terço hoje com o Padre Paulo Ricardo! (3 de novembro)\"><yt-formatted-string aria-label=\"Reze o terço hoje com o Padre Paulo Ricardo! (3 de novembro) Padre Paulo Ricardo 0 visualizações 25 minutos\" class=\"style-scope ytd-rich-grid-media\" id=\"video-title\">Reze o terço hoje com o Padre Paulo Ricardo! (3 de novembro)</yt-formatted-string></a>\n",
      "<a aria-label=\"Reze o terço hoje com o Padre Paulo Ricardo! (2 de novembro) Padre Paulo Ricardo 0 visualizações 25 minutos\" class=\"yt-simple-endpoint focus-on-expand style-scope ytd-rich-grid-media\" href=\"/watch?v=zzqfoJMF-r8\" id=\"video-title-link\" title=\"Reze o terço hoje com o Padre Paulo Ricardo! (2 de novembro)\"><yt-formatted-string aria-label=\"Reze o terço hoje com o Padre Paulo Ricardo! (2 de novembro) Padre Paulo Ricardo 0 visualizações 25 minutos\" class=\"style-scope ytd-rich-grid-media\" id=\"video-title\">Reze o terço hoje com o Padre Paulo Ricardo! (2 de novembro)</yt-formatted-string></a>\n",
      "<a aria-label=\"Homilia Diária | “Fazei todo esforço possível!” (Quarta-feira da 30.ª Semana do Tempo Comum) Padre Paulo Ricardo 56.425 visualizações há 1 dia 5 minutos e 34 segundos\" class=\"yt-simple-endpoint focus-on-expand style-scope ytd-rich-grid-media\" href=\"/watch?v=LhymZWG8moY\" id=\"video-title-link\" title=\"Homilia Diária | “Fazei todo esforço possível!” (Quarta-feira da 30.ª Semana do Tempo Comum)\"><yt-formatted-string aria-label=\"Homilia Diária | “Fazei todo esforço possível!” (Quarta-feira da 30.ª Semana do Tempo Comum) Padre Paulo Ricardo 56.425 visualizações há 1 dia 5 minutos e 34 segundos\" class=\"style-scope ytd-rich-grid-media\" id=\"video-title\">Homilia Diária | “Fazei todo esforço possível!” (Quarta-feira da 30.ª Semana do Tempo Comum)</yt-formatted-string></a>\n",
      "<a aria-label=\"Reze o terço hoje com o Padre Paulo Ricardo! (31 de outubro) Padre Paulo Ricardo 31.958 visualizações há 1 dia 25 minutos\" class=\"yt-simple-endpoint focus-on-expand style-scope ytd-rich-grid-media\" href=\"/watch?v=L6KhUwGKyIU\" id=\"video-title-link\" title=\"Reze o terço hoje com o Padre Paulo Ricardo! (31 de outubro)\"><yt-formatted-string aria-label=\"Reze o terço hoje com o Padre Paulo Ricardo! (31 de outubro) Padre Paulo Ricardo 31.958 visualizações há 1 dia 25 minutos\" class=\"style-scope ytd-rich-grid-media\" id=\"video-title\">Reze o terço hoje com o Padre Paulo Ricardo! (31 de outubro)</yt-formatted-string></a>\n",
      "<a aria-label=\"Homilia Diária | Como funciona a dinâmica da fé? (Terça-feira da 30.ª Semana do Tempo Comum) Padre Paulo Ricardo 56.952 visualizações há 2 dias 5 minutos e 43 segundos\" class=\"yt-simple-endpoint focus-on-expand style-scope ytd-rich-grid-media\" href=\"/watch?v=VHiiGdXrYpM\" id=\"video-title-link\" title=\"Homilia Diária | Como funciona a dinâmica da fé? (Terça-feira da 30.ª Semana do Tempo Comum)\"><yt-formatted-string aria-label=\"Homilia Diária | Como funciona a dinâmica da fé? (Terça-feira da 30.ª Semana do Tempo Comum) Padre Paulo Ricardo 56.952 visualizações há 2 dias 5 minutos e 43 segundos\" class=\"style-scope ytd-rich-grid-media\" id=\"video-title\">Homilia Diária | Como funciona a dinâmica da fé? (Terça-feira da 30.ª Semana do Tempo Comum)</yt-formatted-string></a>\n",
      "<a aria-label=\"Reze o terço hoje com o Padre Paulo Ricardo! (30 de outubro) Padre Paulo Ricardo 33.903 visualizações há 2 dias 25 minutos\" class=\"yt-simple-endpoint focus-on-expand style-scope ytd-rich-grid-media\" href=\"/watch?v=a3cI8Q9KhU0\" id=\"video-title-link\" title=\"Reze o terço hoje com o Padre Paulo Ricardo! (30 de outubro)\"><yt-formatted-string aria-label=\"Reze o terço hoje com o Padre Paulo Ricardo! (30 de outubro) Padre Paulo Ricardo 33.903 visualizações há 2 dias 25 minutos\" class=\"style-scope ytd-rich-grid-media\" id=\"video-title\">Reze o terço hoje com o Padre Paulo Ricardo! (30 de outubro)</yt-formatted-string></a>\n",
      "<a aria-label=\"Homilia Diária | Não estamos com a alma encurvada? (Segunda-feira da 30.ª Semana do Tempo Comum) Padre Paulo Ricardo 53.223 visualizações há 3 dias 5 minutos\" class=\"yt-simple-endpoint focus-on-expand style-scope ytd-rich-grid-media\" href=\"/watch?v=keWDiiPbG_8\" id=\"video-title-link\" title=\"Homilia Diária | Não estamos com a alma encurvada? (Segunda-feira da 30.ª Semana do Tempo Comum)\"><yt-formatted-string aria-label=\"Homilia Diária | Não estamos com a alma encurvada? (Segunda-feira da 30.ª Semana do Tempo Comum) Padre Paulo Ricardo 53.223 visualizações há 3 dias 5 minutos\" class=\"style-scope ytd-rich-grid-media\" id=\"video-title\">Homilia Diária | Não estamos com a alma encurvada? (Segunda-feira da 30.ª Semana do Tempo Comum)</yt-formatted-string></a>\n",
      "<a aria-label=\"Reze o terço hoje com o Padre Paulo Ricardo (29 de outubro) Padre Paulo Ricardo 28.439 visualizações há 3 dias 25 minutos\" class=\"yt-simple-endpoint focus-on-expand style-scope ytd-rich-grid-media\" href=\"/watch?v=oOgD5LpKCJ4\" id=\"video-title-link\" title=\"Reze o terço hoje com o Padre Paulo Ricardo (29 de outubro)\"><yt-formatted-string aria-label=\"Reze o terço hoje com o Padre Paulo Ricardo (29 de outubro) Padre Paulo Ricardo 28.439 visualizações há 3 dias 25 minutos\" class=\"style-scope ytd-rich-grid-media\" id=\"video-title\">Reze o terço hoje com o Padre Paulo Ricardo (29 de outubro)</yt-formatted-string></a>\n",
      "<a aria-label=\"Reze o terço hoje com o Padre Paulo Ricardo! (23 de outubro) Padre Paulo Ricardo 25.137 visualizações há 4 dias 25 minutos\" class=\"yt-simple-endpoint focus-on-expand style-scope ytd-rich-grid-media\" href=\"/watch?v=SPAq-9OFJbk\" id=\"video-title-link\" title=\"Reze o terço hoje com o Padre Paulo Ricardo! (23 de outubro)\"><yt-formatted-string aria-label=\"Reze o terço hoje com o Padre Paulo Ricardo! (23 de outubro) Padre Paulo Ricardo 25.137 visualizações há 4 dias 25 minutos\" class=\"style-scope ytd-rich-grid-media\" id=\"video-title\">Reze o terço hoje com o Padre Paulo Ricardo! (23 de outubro)</yt-formatted-string></a>\n",
      "<a aria-label=\"Homilia Dominical | Como adquirir e fazer crescer o amor a Deus? (30.º Domingo do Tempo Comum) Padre Paulo Ricardo 85.125 visualizações há 4 dias 26 minutos\" class=\"yt-simple-endpoint focus-on-expand style-scope ytd-rich-grid-media\" href=\"/watch?v=DTB1i0yOlUc\" id=\"video-title-link\" title=\"Homilia Dominical | Como adquirir e fazer crescer o amor a Deus? (30.º Domingo do Tempo Comum)\"><yt-formatted-string aria-label=\"Homilia Dominical | Como adquirir e fazer crescer o amor a Deus? (30.º Domingo do Tempo Comum) Padre Paulo Ricardo 85.125 visualizações há 4 dias 26 minutos\" class=\"style-scope ytd-rich-grid-media\" id=\"video-title\">Homilia Dominical | Como adquirir e fazer crescer o amor a Deus? (30.º Domingo do Tempo Comum)</yt-formatted-string></a>\n",
      "<a aria-label=\"O acontecimento histórico que nos tornou cidadãos de 2ª categoria Padre Paulo Ricardo 12.463 visualizações há 5 dias 2 minutos e 12 segundos\" class=\"yt-simple-endpoint focus-on-expand style-scope ytd-rich-grid-media\" href=\"/watch?v=Ga5QSqHJ_5s\" id=\"video-title-link\" title=\"O acontecimento histórico que nos tornou cidadãos de 2ª categoria\"><yt-formatted-string aria-label=\"O acontecimento histórico que nos tornou cidadãos de 2ª categoria Padre Paulo Ricardo 12.463 visualizações há 5 dias 2 minutos e 12 segundos\" class=\"style-scope ytd-rich-grid-media\" id=\"video-title\">O acontecimento histórico que nos tornou cidadãos de 2ª categoria</yt-formatted-string></a>\n",
      "<a aria-label=\"Homilia Diária | A missão de um apóstolo (Festa de São Simão e São Judas Tadeu, Apóstolos) Padre Paulo Ricardo 42.865 visualizações há 5 dias 5 minutos e 3 segundos\" class=\"yt-simple-endpoint focus-on-expand style-scope ytd-rich-grid-media\" href=\"/watch?v=Aa83YTtdff4\" id=\"video-title-link\" title=\"Homilia Diária | A missão de um apóstolo (Festa de São Simão e São Judas Tadeu, Apóstolos)\"><yt-formatted-string aria-label=\"Homilia Diária | A missão de um apóstolo (Festa de São Simão e São Judas Tadeu, Apóstolos) Padre Paulo Ricardo 42.865 visualizações há 5 dias 5 minutos e 3 segundos\" class=\"style-scope ytd-rich-grid-media\" id=\"video-title\">Homilia Diária | A missão de um apóstolo (Festa de São Simão e São Judas Tadeu, Apóstolos)</yt-formatted-string></a>\n",
      "<a aria-label=\"Reze o terço hoje com o Padre Paulo Ricardo! (27 de outubro) Padre Paulo Ricardo 32.278 visualizações há 5 dias 25 minutos\" class=\"yt-simple-endpoint focus-on-expand style-scope ytd-rich-grid-media\" href=\"/watch?v=VZ0-fAaM6Kg\" id=\"video-title-link\" title=\"Reze o terço hoje com o Padre Paulo Ricardo! (27 de outubro)\"><yt-formatted-string aria-label=\"Reze o terço hoje com o Padre Paulo Ricardo! (27 de outubro) Padre Paulo Ricardo 32.278 visualizações há 5 dias 25 minutos\" class=\"style-scope ytd-rich-grid-media\" id=\"video-title\">Reze o terço hoje com o Padre Paulo Ricardo! (27 de outubro)</yt-formatted-string></a>\n",
      "<a aria-label=\"Precisamos nos submeter à fé de dois mil anos! Padre Paulo Ricardo 12.673 visualizações há 6 dias 3 minutos e 8 segundos\" class=\"yt-simple-endpoint focus-on-expand style-scope ytd-rich-grid-media\" href=\"/watch?v=mavdpM3hygs\" id=\"video-title-link\" title=\"Precisamos nos submeter à fé de dois mil anos!\"><yt-formatted-string aria-label=\"Precisamos nos submeter à fé de dois mil anos! Padre Paulo Ricardo 12.673 visualizações há 6 dias 3 minutos e 8 segundos\" class=\"style-scope ytd-rich-grid-media\" id=\"video-title\">Precisamos nos submeter à fé de dois mil anos!</yt-formatted-string></a>\n",
      "<a aria-label=\"Homilia Diária | Não se faça de desentendido… (Sexta-feira da 29.ª Semana do Tempo Comum) Padre Paulo Ricardo 54.458 visualizações há 6 dias 5 minutos e 27 segundos\" class=\"yt-simple-endpoint focus-on-expand style-scope ytd-rich-grid-media\" href=\"/watch?v=8J3ktIa2cio\" id=\"video-title-link\" title=\"Homilia Diária | Não se faça de desentendido… (Sexta-feira da 29.ª Semana do Tempo Comum)\"><yt-formatted-string aria-label=\"Homilia Diária | Não se faça de desentendido… (Sexta-feira da 29.ª Semana do Tempo Comum) Padre Paulo Ricardo 54.458 visualizações há 6 dias 5 minutos e 27 segundos\" class=\"style-scope ytd-rich-grid-media\" id=\"video-title\">Homilia Diária | Não se faça de desentendido… (Sexta-feira da 29.ª Semana do Tempo Comum)</yt-formatted-string></a>\n",
      "<a aria-label=\"Reze o terço hoje com o Padre Paulo Ricardo! (26 de outubro) Padre Paulo Ricardo 34.327 visualizações há 6 dias 25 minutos\" class=\"yt-simple-endpoint focus-on-expand style-scope ytd-rich-grid-media\" href=\"/watch?v=M3s75fz3fNg\" id=\"video-title-link\" title=\"Reze o terço hoje com o Padre Paulo Ricardo! (26 de outubro)\"><yt-formatted-string aria-label=\"Reze o terço hoje com o Padre Paulo Ricardo! (26 de outubro) Padre Paulo Ricardo 34.327 visualizações há 6 dias 25 minutos\" class=\"style-scope ytd-rich-grid-media\" id=\"video-title\">Reze o terço hoje com o Padre Paulo Ricardo! (26 de outubro)</yt-formatted-string></a>\n",
      "<a aria-label=\"Homilia Diária | O fogo que Cristo quer atear sobre nós (Quinta-feira da 29.ª Semana do Tempo Comum) Padre Paulo Ricardo 57.086 visualizações há 7 dias 5 minutos e 25 segundos\" class=\"yt-simple-endpoint focus-on-expand style-scope ytd-rich-grid-media\" href=\"/watch?v=SPUjlVVQQ_E\" id=\"video-title-link\" title=\"Homilia Diária | O fogo que Cristo quer atear sobre nós (Quinta-feira da 29.ª Semana do Tempo Comum)\"><yt-formatted-string aria-label=\"Homilia Diária | O fogo que Cristo quer atear sobre nós (Quinta-feira da 29.ª Semana do Tempo Comum) Padre Paulo Ricardo 57.086 visualizações há 7 dias 5 minutos e 25 segundos\" class=\"style-scope ytd-rich-grid-media\" id=\"video-title\">Homilia Diária | O fogo que Cristo quer atear sobre nós (Quinta-feira da 29.ª Semana do Tempo Comum)</yt-formatted-string></a>\n",
      "<a aria-label=\"Reze o terço hoje com o Padre Paulo Ricardo (25 de outubro) Padre Paulo Ricardo 36.964 visualizações há 7 dias 25 minutos\" class=\"yt-simple-endpoint focus-on-expand style-scope ytd-rich-grid-media\" href=\"/watch?v=HBCj36YofcE\" id=\"video-title-link\" title=\"Reze o terço hoje com o Padre Paulo Ricardo (25 de outubro)\"><yt-formatted-string aria-label=\"Reze o terço hoje com o Padre Paulo Ricardo (25 de outubro) Padre Paulo Ricardo 36.964 visualizações há 7 dias 25 minutos\" class=\"style-scope ytd-rich-grid-media\" id=\"video-title\">Reze o terço hoje com o Padre Paulo Ricardo (25 de outubro)</yt-formatted-string></a>\n",
      "<a aria-label=\"Plebiscito sobre o 4b0rt0? Estamos ficando loucos? Padre Paulo Ricardo 21.909 visualizações há 8 dias 3 minutos e 38 segundos\" class=\"yt-simple-endpoint focus-on-expand style-scope ytd-rich-grid-media\" href=\"/watch?v=OFmQ_PfQKqk\" id=\"video-title-link\" title=\"Plebiscito sobre o 4b0rt0? Estamos ficando loucos?\"><yt-formatted-string aria-label=\"Plebiscito sobre o 4b0rt0? Estamos ficando loucos? Padre Paulo Ricardo 21.909 visualizações há 8 dias 3 minutos e 38 segundos\" class=\"style-scope ytd-rich-grid-media\" id=\"video-title\">Plebiscito sobre o 4b0rt0? Estamos ficando loucos?</yt-formatted-string></a>\n",
      "<a aria-label=\"Homilia Diária | Um intercessor na luta contra as ideologias (Mem. S. Antônio de Sant’Anna Galvão) Padre Paulo Ricardo 56.427 visualizações há 8 dias 5 minutos e 17 segundos\" class=\"yt-simple-endpoint focus-on-expand style-scope ytd-rich-grid-media\" href=\"/watch?v=7l3hxZebZTQ\" id=\"video-title-link\" title=\"Homilia Diária | Um intercessor na luta contra as ideologias (Mem. S. Antônio de Sant’Anna Galvão)\"><yt-formatted-string aria-label=\"Homilia Diária | Um intercessor na luta contra as ideologias (Mem. S. Antônio de Sant’Anna Galvão) Padre Paulo Ricardo 56.427 visualizações há 8 dias 5 minutos e 17 segundos\" class=\"style-scope ytd-rich-grid-media\" id=\"video-title\">Homilia Diária | Um intercessor na luta contra as ideologias (Mem. S. Antônio de Sant’Anna Galvão)</yt-formatted-string></a>\n",
      "<a aria-label=\"Reze o terço hoje com o Padre Paulo Ricardo! (24 de outubro) Padre Paulo Ricardo 34.756 visualizações há 8 dias 25 minutos\" class=\"yt-simple-endpoint focus-on-expand style-scope ytd-rich-grid-media\" href=\"/watch?v=LjayA3fl6ug\" id=\"video-title-link\" title=\"Reze o terço hoje com o Padre Paulo Ricardo! (24 de outubro)\"><yt-formatted-string aria-label=\"Reze o terço hoje com o Padre Paulo Ricardo! (24 de outubro) Padre Paulo Ricardo 34.756 visualizações há 8 dias 25 minutos\" class=\"style-scope ytd-rich-grid-media\" id=\"video-title\">Reze o terço hoje com o Padre Paulo Ricardo! (24 de outubro)</yt-formatted-string></a>\n",
      "<a aria-label=\"Pregação Seleta | São Rafael Arcanjo: guia e ordenador de nossas vidas Padre Paulo Ricardo 81.449 visualizações há 9 dias 17 minutos\" class=\"yt-simple-endpoint focus-on-expand style-scope ytd-rich-grid-media\" href=\"/watch?v=LuYxTyhHyqI\" id=\"video-title-link\" title=\"Pregação Seleta | São Rafael Arcanjo: guia e ordenador de nossas vidas\"><yt-formatted-string aria-label=\"Pregação Seleta | São Rafael Arcanjo: guia e ordenador de nossas vidas Padre Paulo Ricardo 81.449 visualizações há 9 dias 17 minutos\" class=\"style-scope ytd-rich-grid-media\" id=\"video-title\">Pregação Seleta | São Rafael Arcanjo: guia e ordenador de nossas vidas</yt-formatted-string></a>\n",
      "<a aria-label=\"Homilia Diária | Jesus quer servos dispostos (Terça-feira da 29.ª Semana do Tempo Comum) Padre Paulo Ricardo 53.096 visualizações há 9 dias 5 minutos e 59 segundos\" class=\"yt-simple-endpoint focus-on-expand style-scope ytd-rich-grid-media\" href=\"/watch?v=dSO5MLwkLss\" id=\"video-title-link\" title=\"Homilia Diária | Jesus quer servos dispostos (Terça-feira da 29.ª Semana do Tempo Comum)\"><yt-formatted-string aria-label=\"Homilia Diária | Jesus quer servos dispostos (Terça-feira da 29.ª Semana do Tempo Comum) Padre Paulo Ricardo 53.096 visualizações há 9 dias 5 minutos e 59 segundos\" class=\"style-scope ytd-rich-grid-media\" id=\"video-title\">Homilia Diária | Jesus quer servos dispostos (Terça-feira da 29.ª Semana do Tempo Comum)</yt-formatted-string></a>\n",
      "<a aria-label=\"Reze o terço hoje com o Padre Paulo Ricardo! (23 de outubro) Padre Paulo Ricardo 37.046 visualizações há 9 dias 25 minutos\" class=\"yt-simple-endpoint focus-on-expand style-scope ytd-rich-grid-media\" href=\"/watch?v=JPWLsI6_kgs\" id=\"video-title-link\" title=\"Reze o terço hoje com o Padre Paulo Ricardo! (23 de outubro)\"><yt-formatted-string aria-label=\"Reze o terço hoje com o Padre Paulo Ricardo! (23 de outubro) Padre Paulo Ricardo 37.046 visualizações há 9 dias 25 minutos\" class=\"style-scope ytd-rich-grid-media\" id=\"video-title\">Reze o terço hoje com o Padre Paulo Ricardo! (23 de outubro)</yt-formatted-string></a>\n",
      "<a aria-label=\"Pregação Seleta | Você vai morrer! Pense nisso e deixe de ser ganancioso! Padre Paulo Ricardo 52.115 visualizações há 10 dias 10 minutos e 14 segundos\" class=\"yt-simple-endpoint focus-on-expand style-scope ytd-rich-grid-media\" href=\"/watch?v=0xHCkjzBlFI\" id=\"video-title-link\" title=\"Pregação Seleta | Você vai morrer! Pense nisso e deixe de ser ganancioso!\"><yt-formatted-string aria-label=\"Pregação Seleta | Você vai morrer! Pense nisso e deixe de ser ganancioso! Padre Paulo Ricardo 52.115 visualizações há 10 dias 10 minutos e 14 segundos\" class=\"style-scope ytd-rich-grid-media\" id=\"video-title\">Pregação Seleta | Você vai morrer! Pense nisso e deixe de ser ganancioso!</yt-formatted-string></a>\n",
      "<a aria-label=\"Homilia Diária | O remédio para a ganância (Segunda-feira da 29.ª Semana do Tempo Comum) Padre Paulo Ricardo 51.685 visualizações há 10 dias 5 minutos e 30 segundos\" class=\"yt-simple-endpoint focus-on-expand style-scope ytd-rich-grid-media\" href=\"/watch?v=EWLBQOaVkE4\" id=\"video-title-link\" title=\"Homilia Diária | O remédio para a ganância (Segunda-feira da 29.ª Semana do Tempo Comum)\"><yt-formatted-string aria-label=\"Homilia Diária | O remédio para a ganância (Segunda-feira da 29.ª Semana do Tempo Comum) Padre Paulo Ricardo 51.685 visualizações há 10 dias 5 minutos e 30 segundos\" class=\"style-scope ytd-rich-grid-media\" id=\"video-title\">Homilia Diária | O remédio para a ganância (Segunda-feira da 29.ª Semana do Tempo Comum)</yt-formatted-string></a>\n"
     ]
    }
   ],
   "source": [
    "for i in range(len(a_tags)):\n",
    "    print(a_tags[i])\n"
   ]
  },
  {
   "cell_type": "code",
   "execution_count": 14,
   "metadata": {},
   "outputs": [
    {
     "name": "stdout",
     "output_type": "stream",
     "text": [
      "/watch?v=Ev_BJUo4RY0\n"
     ]
    }
   ],
   "source": [
    "print(a_tags[0]['href'])    "
   ]
  },
  {
   "cell_type": "code",
   "execution_count": 15,
   "metadata": {},
   "outputs": [
    {
     "name": "stdout",
     "output_type": "stream",
     "text": [
      "/watch?v=Ev_BJUo4RY0\n",
      "/watch?v=UTdpMzztKd0\n",
      "/watch?v=LNzf_jXrtr0\n",
      "/watch?v=DzB5w8E9JKc\n",
      "/watch?v=DHKnIT52S8I\n",
      "/watch?v=zzqfoJMF-r8\n",
      "/watch?v=LhymZWG8moY\n",
      "/watch?v=L6KhUwGKyIU\n",
      "/watch?v=VHiiGdXrYpM\n",
      "/watch?v=a3cI8Q9KhU0\n",
      "/watch?v=keWDiiPbG_8\n",
      "/watch?v=oOgD5LpKCJ4\n",
      "/watch?v=SPAq-9OFJbk\n",
      "/watch?v=DTB1i0yOlUc\n",
      "/watch?v=Ga5QSqHJ_5s\n",
      "/watch?v=Aa83YTtdff4\n",
      "/watch?v=VZ0-fAaM6Kg\n",
      "/watch?v=mavdpM3hygs\n",
      "/watch?v=8J3ktIa2cio\n",
      "/watch?v=M3s75fz3fNg\n",
      "/watch?v=SPUjlVVQQ_E\n",
      "/watch?v=HBCj36YofcE\n",
      "/watch?v=OFmQ_PfQKqk\n",
      "/watch?v=7l3hxZebZTQ\n",
      "/watch?v=LjayA3fl6ug\n",
      "/watch?v=LuYxTyhHyqI\n",
      "/watch?v=dSO5MLwkLss\n",
      "/watch?v=JPWLsI6_kgs\n",
      "/watch?v=0xHCkjzBlFI\n",
      "/watch?v=EWLBQOaVkE4\n"
     ]
    }
   ],
   "source": [
    "for a_tag in a_tags:\n",
    "    print(a_tag['href'])"
   ]
  },
  {
   "cell_type": "code",
   "execution_count": 16,
   "metadata": {},
   "outputs": [
    {
     "name": "stdout",
     "output_type": "stream",
     "text": [
      "Homilia Diária | A necessidade de rezar pelos falecidos (Comemoração de Todos os Fiéis Defuntos)\n",
      "Reze o terço hoje com o Padre Paulo Ricardo (1º de novembro)\n",
      "Por que os cristãos são um problema para os ditadores de plantão?\n",
      "Homilia Diária | Observam os detalhes, mas esquecem o amor (Sexta-feira da 30.ª Sem. do Tempo Comum)\n",
      "Reze o terço hoje com o Padre Paulo Ricardo! (3 de novembro)\n",
      "Reze o terço hoje com o Padre Paulo Ricardo! (2 de novembro)\n",
      "Homilia Diária | “Fazei todo esforço possível!” (Quarta-feira da 30.ª Semana do Tempo Comum)\n",
      "Reze o terço hoje com o Padre Paulo Ricardo! (31 de outubro)\n",
      "Homilia Diária | Como funciona a dinâmica da fé? (Terça-feira da 30.ª Semana do Tempo Comum)\n",
      "Reze o terço hoje com o Padre Paulo Ricardo! (30 de outubro)\n",
      "Homilia Diária | Não estamos com a alma encurvada? (Segunda-feira da 30.ª Semana do Tempo Comum)\n",
      "Reze o terço hoje com o Padre Paulo Ricardo (29 de outubro)\n",
      "Reze o terço hoje com o Padre Paulo Ricardo! (23 de outubro)\n",
      "Homilia Dominical | Como adquirir e fazer crescer o amor a Deus? (30.º Domingo do Tempo Comum)\n",
      "O acontecimento histórico que nos tornou cidadãos de 2ª categoria\n",
      "Homilia Diária | A missão de um apóstolo (Festa de São Simão e São Judas Tadeu, Apóstolos)\n",
      "Reze o terço hoje com o Padre Paulo Ricardo! (27 de outubro)\n",
      "Precisamos nos submeter à fé de dois mil anos!\n",
      "Homilia Diária | Não se faça de desentendido… (Sexta-feira da 29.ª Semana do Tempo Comum)\n",
      "Reze o terço hoje com o Padre Paulo Ricardo! (26 de outubro)\n",
      "Homilia Diária | O fogo que Cristo quer atear sobre nós (Quinta-feira da 29.ª Semana do Tempo Comum)\n",
      "Reze o terço hoje com o Padre Paulo Ricardo (25 de outubro)\n",
      "Plebiscito sobre o 4b0rt0? Estamos ficando loucos?\n",
      "Homilia Diária | Um intercessor na luta contra as ideologias (Mem. S. Antônio de Sant’Anna Galvão)\n",
      "Reze o terço hoje com o Padre Paulo Ricardo! (24 de outubro)\n",
      "Pregação Seleta | São Rafael Arcanjo: guia e ordenador de nossas vidas\n",
      "Homilia Diária | Jesus quer servos dispostos (Terça-feira da 29.ª Semana do Tempo Comum)\n",
      "Reze o terço hoje com o Padre Paulo Ricardo! (23 de outubro)\n",
      "Pregação Seleta | Você vai morrer! Pense nisso e deixe de ser ganancioso!\n",
      "Homilia Diária | O remédio para a ganância (Segunda-feira da 29.ª Semana do Tempo Comum)\n"
     ]
    }
   ],
   "source": [
    "for a_tag in a_tags:\n",
    "    print(a_tag['title'])"
   ]
  },
  {
   "cell_type": "code",
   "execution_count": 17,
   "metadata": {},
   "outputs": [
    {
     "data": {
      "text/plain": [
       "False"
      ]
     },
     "execution_count": 17,
     "metadata": {},
     "output_type": "execute_result"
    }
   ],
   "source": [
    "a_tag.has_attr('td')"
   ]
  },
  {
   "cell_type": "code",
   "execution_count": 18,
   "metadata": {},
   "outputs": [],
   "source": [
    "links = []\n",
    "titles = []\n",
    "\n",
    "for a_tag in a_tags:\n",
    "    href_value = a_tag['href']\n",
    "    links.append(href_value)\n",
    "    title_value = a_tag['title']\n",
    "    titles.append(title_value)"
   ]
  },
  {
   "cell_type": "code",
   "execution_count": 19,
   "metadata": {},
   "outputs": [],
   "source": [
    "df = pd.DataFrame(\n",
    "    {\n",
    "        'title': titles,\n",
    "        'links': links\n",
    "        })"
   ]
  },
  {
   "cell_type": "code",
   "execution_count": 20,
   "metadata": {},
   "outputs": [
    {
     "data": {
      "text/html": [
       "<div>\n",
       "<style scoped>\n",
       "    .dataframe tbody tr th:only-of-type {\n",
       "        vertical-align: middle;\n",
       "    }\n",
       "\n",
       "    .dataframe tbody tr th {\n",
       "        vertical-align: top;\n",
       "    }\n",
       "\n",
       "    .dataframe thead th {\n",
       "        text-align: right;\n",
       "    }\n",
       "</style>\n",
       "<table border=\"1\" class=\"dataframe\">\n",
       "  <thead>\n",
       "    <tr style=\"text-align: right;\">\n",
       "      <th></th>\n",
       "      <th>title</th>\n",
       "      <th>links</th>\n",
       "    </tr>\n",
       "  </thead>\n",
       "  <tbody>\n",
       "    <tr>\n",
       "      <th>0</th>\n",
       "      <td>Homilia Diária | A necessidade de rezar pelos ...</td>\n",
       "      <td>/watch?v=Ev_BJUo4RY0</td>\n",
       "    </tr>\n",
       "    <tr>\n",
       "      <th>1</th>\n",
       "      <td>Reze o terço hoje com o Padre Paulo Ricardo (1...</td>\n",
       "      <td>/watch?v=UTdpMzztKd0</td>\n",
       "    </tr>\n",
       "    <tr>\n",
       "      <th>2</th>\n",
       "      <td>Por que os cristãos são um problema para os di...</td>\n",
       "      <td>/watch?v=LNzf_jXrtr0</td>\n",
       "    </tr>\n",
       "    <tr>\n",
       "      <th>3</th>\n",
       "      <td>Homilia Diária | Observam os detalhes, mas esq...</td>\n",
       "      <td>/watch?v=DzB5w8E9JKc</td>\n",
       "    </tr>\n",
       "    <tr>\n",
       "      <th>4</th>\n",
       "      <td>Reze o terço hoje com o Padre Paulo Ricardo! (...</td>\n",
       "      <td>/watch?v=DHKnIT52S8I</td>\n",
       "    </tr>\n",
       "  </tbody>\n",
       "</table>\n",
       "</div>"
      ],
      "text/plain": [
       "                                               title                 links\n",
       "0  Homilia Diária | A necessidade de rezar pelos ...  /watch?v=Ev_BJUo4RY0\n",
       "1  Reze o terço hoje com o Padre Paulo Ricardo (1...  /watch?v=UTdpMzztKd0\n",
       "2  Por que os cristãos são um problema para os di...  /watch?v=LNzf_jXrtr0\n",
       "3  Homilia Diária | Observam os detalhes, mas esq...  /watch?v=DzB5w8E9JKc\n",
       "4  Reze o terço hoje com o Padre Paulo Ricardo! (...  /watch?v=DHKnIT52S8I"
      ]
     },
     "execution_count": 20,
     "metadata": {},
     "output_type": "execute_result"
    }
   ],
   "source": [
    "df.head()"
   ]
  },
  {
   "cell_type": "code",
   "execution_count": 21,
   "metadata": {},
   "outputs": [
    {
     "name": "stdout",
     "output_type": "stream",
     "text": [
      "scroll no:  1\n",
      "scroll no:  2\n",
      "scroll no:  3\n",
      "scroll no:  4\n",
      "scroll no:  5\n"
     ]
    }
   ],
   "source": [
    "scrolls = 0\n",
    "while True:\n",
    "    wd.execute_script('window.scrollBy(0,6000);')\n",
    "    scrolls += 1\n",
    "    print('scroll no: ', str(scrolls))\n",
    "    if scrolls == 5:\n",
    "        break\n"
   ]
  },
  {
   "cell_type": "code",
   "execution_count": 22,
   "metadata": {},
   "outputs": [],
   "source": [
    "html = wd.page_source"
   ]
  },
  {
   "cell_type": "code",
   "execution_count": 23,
   "metadata": {},
   "outputs": [],
   "source": [
    "soup = BeautifulSoup(html, 'html.parser')\n",
    "a_tags = soup.find_all('a', {'id': 'video-title-link'})"
   ]
  },
  {
   "cell_type": "code",
   "execution_count": 25,
   "metadata": {},
   "outputs": [
    {
     "name": "stdout",
     "output_type": "stream",
     "text": [
      "1----Homilia Diária | A necessidade de rezar pelos falecidos (Comemoração de Todos os Fiéis Defuntos)\n",
      "2----Reze o terço hoje com o Padre Paulo Ricardo (1º de novembro)\n",
      "3----Por que os cristãos são um problema para os ditadores de plantão?\n",
      "4----Homilia Diária | Observam os detalhes, mas esquecem o amor (Sexta-feira da 30.ª Sem. do Tempo Comum)\n",
      "5----Reze o terço hoje com o Padre Paulo Ricardo! (3 de novembro)\n",
      "6----Reze o terço hoje com o Padre Paulo Ricardo! (2 de novembro)\n",
      "7----Homilia Diária | “Fazei todo esforço possível!” (Quarta-feira da 30.ª Semana do Tempo Comum)\n",
      "8----Reze o terço hoje com o Padre Paulo Ricardo! (31 de outubro)\n",
      "9----Homilia Diária | Como funciona a dinâmica da fé? (Terça-feira da 30.ª Semana do Tempo Comum)\n",
      "10----Reze o terço hoje com o Padre Paulo Ricardo! (30 de outubro)\n",
      "11----Homilia Diária | Não estamos com a alma encurvada? (Segunda-feira da 30.ª Semana do Tempo Comum)\n",
      "12----Reze o terço hoje com o Padre Paulo Ricardo (29 de outubro)\n",
      "13----Reze o terço hoje com o Padre Paulo Ricardo! (23 de outubro)\n",
      "14----Homilia Dominical | Como adquirir e fazer crescer o amor a Deus? (30.º Domingo do Tempo Comum)\n",
      "15----O acontecimento histórico que nos tornou cidadãos de 2ª categoria\n",
      "16----Homilia Diária | A missão de um apóstolo (Festa de São Simão e São Judas Tadeu, Apóstolos)\n",
      "17----Reze o terço hoje com o Padre Paulo Ricardo! (27 de outubro)\n",
      "18----Precisamos nos submeter à fé de dois mil anos!\n",
      "19----Homilia Diária | Não se faça de desentendido… (Sexta-feira da 29.ª Semana do Tempo Comum)\n",
      "20----Reze o terço hoje com o Padre Paulo Ricardo! (26 de outubro)\n",
      "21----Homilia Diária | O fogo que Cristo quer atear sobre nós (Quinta-feira da 29.ª Semana do Tempo Comum)\n",
      "22----Reze o terço hoje com o Padre Paulo Ricardo (25 de outubro)\n",
      "23----Plebiscito sobre o 4b0rt0? Estamos ficando loucos?\n",
      "24----Homilia Diária | Um intercessor na luta contra as ideologias (Mem. S. Antônio de Sant’Anna Galvão)\n",
      "25----Reze o terço hoje com o Padre Paulo Ricardo! (24 de outubro)\n",
      "26----Pregação Seleta | São Rafael Arcanjo: guia e ordenador de nossas vidas\n",
      "27----Homilia Diária | Jesus quer servos dispostos (Terça-feira da 29.ª Semana do Tempo Comum)\n",
      "28----Reze o terço hoje com o Padre Paulo Ricardo! (23 de outubro)\n",
      "29----Pregação Seleta | Você vai morrer! Pense nisso e deixe de ser ganancioso!\n",
      "30----Homilia Diária | O remédio para a ganância (Segunda-feira da 29.ª Semana do Tempo Comum)\n",
      "31----Reze o terço hoje com o Padre Paulo Ricardo (22 de outubro)\n",
      "32----Pregação Seleta | As autoridades civis e eclesiásticas não são deuses!\n",
      "33----Reze o terço hoje com o Padre Paulo Ricardo! (21 de outubro)\n",
      "34----Homilia Dominical | Nossa atitude diante do “César” dos tempos atuais (29.º Domingo do Tempo Comum)\n",
      "35----Homilia Diária | “Tudo contribui para o bem dos que amam a Deus” (Sábado da 28ª Sem.do Tempo Comum)\n",
      "36----Reze o terço hoje com o Padre Paulo Ricardo! (20 de outubro)\n",
      "37----Guerra na faixa de Gaza: o que ninguém está dizendo\n",
      "38----Homilia Diária | Afinal, devemos ou não temer a Deus? (Sexta-feira da 28.ª Semana do Tempo Comum)\n",
      "39----Reze o terço hoje com o Padre Paulo Ricardo! (19 de outubro)\n",
      "40----Orações | Aprenda a rezar a Salve Rainha em latim!\n",
      "41----Homilia Diária | Por políticos “de bem”, não “de bens”! (Memória de São Pedro de Alcântara)\n",
      "42----Reze o terço hoje com o Padre Paulo Ricardo (18 de outubro)\n",
      "43----Homilia Diária | Evangelho de Lucas: um ícone precioso de Maria (Festa de São Lucas, Evangelista)\n",
      "44----Reze o terço hoje com o Padre Paulo Ricardo! (17 de outubro)\n",
      "45----Pregação Seleta | Como estarão nossas vestes nupciais no Banquete do Senhor?\n",
      "46----Homilia Diária | Santo Inácio de Antioquia e a hierarquia dos amores (M. de S. Inácio de Antioquia)\n",
      "47----Reze o terço hoje com o Padre Paulo Ricardo! (16 de outubro)\n",
      "48----Homilia Diária | Buscamos a Cristo ou os milagres de Cristo? (Segunda-feira da 28ª Sem. do T. Comum)\n",
      "49----Reze o terço hoje com o Padre Paulo Ricardo (15 de outubro)\n",
      "50----Reze o terço hoje com o Padre Paulo Ricardo! (14 de outubro)\n",
      "51----Homilia Dominical | O banquete de núpcias ao qual somos chamados (28.º Domingo do Tempo Comum)\n",
      "52----Homilia Diária | O Evangelho que exalta a Virgem Maria (Sábado da 27.ª Semana do Tempo Comum)\n",
      "53----Reze o terço hoje com o Padre Paulo Ricardo! (13 de outubro)\n",
      "54----Homilia Diária | O diabo e a plenitude da Revelação (Sexta-feira da 27.ª Semana do Tempo Comum)\n",
      "55----Reze o terço hoje com o Padre Paulo Ricardo! (12 de outubro)\n",
      "56----Homilia Diária | O Brasil tem uma vocação divina (Solenidade de Nossa Sra. da Conceição Aparecida)\n",
      "57----Reze o terço hoje com o Padre Paulo Ricardo (11 de outubro)\n",
      "58----Homilia Diária | Oração, uma resposta de amor (Quarta-feira da 27.ª Semana do Tempo Comum)\n",
      "59----Reze o terço hoje com o Padre Paulo Ricardo! (10 de outubro)\n",
      "60----Homilia Diária | Só uma coisa não nos será tirada (Terça-feira da 27.ª Semana do Tempo Comum)\n"
     ]
    }
   ],
   "source": [
    "links = []\n",
    "titles = []\n",
    "i = 0\n",
    "\n",
    "for a_tag in a_tags:\n",
    "    href_value = a_tag['href']\n",
    "    links.append(href_value)\n",
    "    title_value = a_tag['title']\n",
    "    titles.append(title_value)\n",
    "    i += 1\n",
    "    print(str(i) + '----' + title_value)"
   ]
  },
  {
   "cell_type": "code",
   "execution_count": 26,
   "metadata": {},
   "outputs": [],
   "source": [
    "import time"
   ]
  },
  {
   "cell_type": "code",
   "execution_count": null,
   "metadata": {},
   "outputs": [],
   "source": [
    "\n",
    "scrolls = 0\n",
    "while True:\n",
    "    wd.execute_script('window.scrollBy(0,6000);')\n",
    "    scrolls += 1\n",
    "    print('scroll no: ', str(scrolls))\n",
    "    if scrolls == 5:\n",
    "        break"
   ]
  }
 ],
 "metadata": {
  "kernelspec": {
   "display_name": ".venv",
   "language": "python",
   "name": "python3"
  },
  "language_info": {
   "codemirror_mode": {
    "name": "ipython",
    "version": 3
   },
   "file_extension": ".py",
   "mimetype": "text/x-python",
   "name": "python",
   "nbconvert_exporter": "python",
   "pygments_lexer": "ipython3",
   "version": "3.12.0"
  }
 },
 "nbformat": 4,
 "nbformat_minor": 2
}
