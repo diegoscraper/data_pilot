{
 "cells": [
  {
   "cell_type": "code",
   "execution_count": 43,
   "outputs": [],
   "source": [
    "from rich.table import Table\n",
    "from rich.console import Console"
   ],
   "metadata": {
    "collapsed": false,
    "pycharm": {
     "name": "#%%\n"
    }
   }
  },
  {
   "cell_type": "code",
   "execution_count": 44,
   "outputs": [],
   "source": [
    "console = Console()\n"
   ],
   "metadata": {
    "collapsed": false,
    "pycharm": {
     "name": "#%%\n"
    }
   }
  },
  {
   "cell_type": "code",
   "execution_count": 45,
   "outputs": [],
   "source": [
    "table = Table(\"Prereq\", \"Minimum Grade\", show_header=True, header_style=\"bold green\")\n"
   ],
   "metadata": {
    "collapsed": false,
    "pycharm": {
     "name": "#%%\n"
    }
   }
  },
  {
   "cell_type": "code",
   "execution_count": 46,
   "outputs": [
    {
     "data": {
      "text/plain": "┏━━━━━━━━┳━━━━━━━━━━━━━━━┓\n┃\u001B[1;32m \u001B[0m\u001B[1;32mPrereq\u001B[0m\u001B[1;32m \u001B[0m┃\u001B[1;32m \u001B[0m\u001B[1;32mMinimum Grade\u001B[0m\u001B[1;32m \u001B[0m┃\n┡━━━━━━━━╇━━━━━━━━━━━━━━━┩\n└────────┴───────────────┘\n",
      "text/html": "<pre style=\"white-space:pre;overflow-x:auto;line-height:normal;font-family:Menlo,'DejaVu Sans Mono',consolas,'Courier New',monospace\">┏━━━━━━━━┳━━━━━━━━━━━━━━━┓\n┃<span style=\"color: #008000; text-decoration-color: #008000; font-weight: bold\"> Prereq </span>┃<span style=\"color: #008000; text-decoration-color: #008000; font-weight: bold\"> Minimum Grade </span>┃\n┡━━━━━━━━╇━━━━━━━━━━━━━━━┩\n└────────┴───────────────┘\n</pre>\n"
     },
     "execution_count": 46,
     "metadata": {},
     "output_type": "execute_result"
    }
   ],
   "source": [
    "table\n"
   ],
   "metadata": {
    "collapsed": false,
    "pycharm": {
     "name": "#%%\n"
    }
   }
  },
  {
   "cell_type": "code",
   "execution_count": 47,
   "outputs": [],
   "source": [
    "table.add_row(\"CS104\", \"60\")\n"
   ],
   "metadata": {
    "collapsed": false,
    "pycharm": {
     "name": "#%%\n"
    }
   }
  },
  {
   "cell_type": "code",
   "execution_count": 55,
   "outputs": [
    {
     "data": {
      "text/plain": "┏━━━━━━━━┳━━━━━━━━━━━━━━━┓\n┃\u001B[1;32m \u001B[0m\u001B[1;32mPrereq\u001B[0m\u001B[1;32m \u001B[0m┃\u001B[1;32m \u001B[0m\u001B[1;32mMinimum Grade\u001B[0m\u001B[1;32m \u001B[0m┃\n┡━━━━━━━━╇━━━━━━━━━━━━━━━┩\n│ CS104  │ 60            │\n│ CS105  │ 60            │\n└────────┴───────────────┘\n",
      "text/html": "<pre style=\"white-space:pre;overflow-x:auto;line-height:normal;font-family:Menlo,'DejaVu Sans Mono',consolas,'Courier New',monospace\">┏━━━━━━━━┳━━━━━━━━━━━━━━━┓\n┃<span style=\"color: #008000; text-decoration-color: #008000; font-weight: bold\"> Prereq </span>┃<span style=\"color: #008000; text-decoration-color: #008000; font-weight: bold\"> Minimum Grade </span>┃\n┡━━━━━━━━╇━━━━━━━━━━━━━━━┩\n│ CS104  │ 60            │\n│ CS105  │ 60            │\n└────────┴───────────────┘\n</pre>\n"
     },
     "execution_count": 55,
     "metadata": {},
     "output_type": "execute_result"
    }
   ],
   "source": [
    "table\n"
   ],
   "metadata": {
    "collapsed": false,
    "pycharm": {
     "name": "#%%\n"
    }
   }
  },
  {
   "cell_type": "code",
   "execution_count": 54,
   "outputs": [],
   "source": [
    "table.add_row(*map(str, (\"CS105\", 60)))"
   ],
   "metadata": {
    "collapsed": false,
    "pycharm": {
     "name": "#%%\n"
    }
   }
  },
  {
   "cell_type": "code",
   "execution_count": 51,
   "outputs": [],
   "source": [
    "# 60 -> str(60) -> \"60\"\n",
    "# \"str\" -> str('str') -> \"str\""
   ],
   "metadata": {
    "collapsed": false,
    "pycharm": {
     "name": "#%%\n"
    }
   }
  },
  {
   "cell_type": "code",
   "execution_count": 52,
   "outputs": [
    {
     "data": {
      "text/plain": "<map at 0x1163ee2f0>"
     },
     "execution_count": 52,
     "metadata": {},
     "output_type": "execute_result"
    }
   ],
   "source": [
    "map(str, (\"CS105\", 60))\n"
   ],
   "metadata": {
    "collapsed": false,
    "pycharm": {
     "name": "#%%\n"
    }
   }
  },
  {
   "cell_type": "code",
   "execution_count": 56,
   "outputs": [],
   "source": [
    "from datetime import datetime\n"
   ],
   "metadata": {
    "collapsed": false,
    "pycharm": {
     "name": "#%%\n"
    }
   }
  },
  {
   "cell_type": "code",
   "execution_count": 58,
   "outputs": [
    {
     "data": {
      "text/plain": "2022"
     },
     "execution_count": 58,
     "metadata": {},
     "output_type": "execute_result"
    }
   ],
   "source": [
    "datetime.now().year\n"
   ],
   "metadata": {
    "collapsed": false,
    "pycharm": {
     "name": "#%%\n"
    }
   }
  },
  {
   "cell_type": "code",
   "execution_count": null,
   "outputs": [],
   "source": [],
   "metadata": {
    "collapsed": false,
    "pycharm": {
     "name": "#%%\n"
    }
   }
  }
 ],
 "metadata": {
  "kernelspec": {
   "display_name": "Python 3",
   "language": "python",
   "name": "python3"
  },
  "language_info": {
   "codemirror_mode": {
    "name": "ipython",
    "version": 2
   },
   "file_extension": ".py",
   "mimetype": "text/x-python",
   "name": "python",
   "nbconvert_exporter": "python",
   "pygments_lexer": "ipython2",
   "version": "2.7.6"
  }
 },
 "nbformat": 4,
 "nbformat_minor": 0
}